{
 "cells": [
  {
   "attachments": {},
   "cell_type": "markdown",
   "metadata": {},
   "source": [
    "# QR Algorithm"
   ]
  },
  {
   "attachments": {},
   "cell_type": "markdown",
   "metadata": {},
   "source": [
    "## Finding Eigenvalues and Eigenvectors with QR Algorithm\n",
    "QR Algorithm, developed in 1950s, is a procedure to calculate the eigenvalues and eigenvectors of a matrix.  \n",
    "  \n",
    "For an $n \\times n$ matrix $A$ in $\\mathbb{C}$, the basic idea is to find the QR decomposition, multiply in reverse order, and iterate. To put words into discrete steps:  \n",
    "1. Set $A_1 = A$\n",
    "2. Find QR decomposition $A_1 = Q_1R_1$\n",
    "3. Set $A_2 = R_1Q_1$\n",
    "4. Find QR decomposition $A_2 = Q_2R_2$\n",
    "5. Repeat until $A_k = R_kQ_k$\n",
    "\n",
    "As $k$ increases for $A_k$, its diagonal converge to the eigenvalues of $A$.  \n",
    "Under certain circumstances, $A_k$ would converge to the [Schur form](https://en.wikipedia.org/wiki/Schur_decomposition) of $A$."
   ]
  },
  {
   "attachments": {},
   "cell_type": "markdown",
   "metadata": {},
   "source": [
    "**a Note from a hunfused Tim**  \n",
    "I feel like there should be a proof here, but I'm suspecting that would take me forever so I would worry about adding a proof here later if this actually becomes something."
   ]
  },
  {
   "attachments": {},
   "cell_type": "markdown",
   "metadata": {},
   "source": [
    "## The Practical QR Algorithm \n",
    "More recent research on QR algorithm has significantly improved the efficiency of QR algorithm. \n",
    "- **Hack 1:** Reducing $A$ to to a [*Hessenberg Matrix*](https://en.wikipedia.org/wiki/Hessenberg_matrix) $H$, and perform QR Algorithm on $H$ instead. \n",
    "- **Hack 2:** Using [Francis QR step](https://www.cs.utexas.edu/users/flame/laff/alaff-beta/chapter10-francis-implicit-qr-step.html) instead of the original QR step \n",
    "\n",
    "### Reduction to Hessenberg Matrix\n",
    "- placeholder - Hessenberg Matrix\n",
    "### Francis QR Step\n",
    "- placeholder - Francis QR Step"
   ]
  },
  {
   "attachments": {},
   "cell_type": "markdown",
   "metadata": {},
   "source": [
    "**Reference:**  \n",
    "- [Schur Decomposition - UCSB MATH 108B from *2014* (Professor Padraoc Bartlett)](https://web.math.ucsb.edu/~padraic/ucsb_2013_14/math108b_w2014/math108b_w2014_lecture5.pdf)  \n",
    "- [Practical QR Algorithm - Stanford CME 335 Lecture from *2010* (Professor Jim Lambers)](http://web.stanford.edu/class/cme335/lecture5)\n",
    "- [Francis QR Step - UT Austin Advanced Linear Algebra](https://www.cs.utexas.edu/users/flame/laff/alaff-beta/chapter10-francis-implicit-qr-step.html)\n",
    "- [QR Algorithm Overview - Wikipedia](https://en.wikipedia.org/wiki/QR_algorithm)"
   ]
  },
  {
   "attachments": {},
   "cell_type": "markdown",
   "metadata": {},
   "source": []
  }
 ],
 "metadata": {
  "language_info": {
   "name": "python"
  },
  "orig_nbformat": 4
 },
 "nbformat": 4,
 "nbformat_minor": 2
}
